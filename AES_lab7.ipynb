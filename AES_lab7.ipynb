{
  "nbformat": 4,
  "nbformat_minor": 0,
  "metadata": {
    "colab": {
      "provenance": []
    },
    "kernelspec": {
      "name": "python3",
      "display_name": "Python 3"
    },
    "language_info": {
      "name": "python"
    }
  },
  "cells": [
    {
      "cell_type": "code",
      "execution_count": 3,
      "metadata": {
        "colab": {
          "base_uri": "https://localhost:8080/"
        },
        "id": "V3UdrBDYBPdT",
        "outputId": "33793a12-808f-47c6-ea23-145457b02e91"
      },
      "outputs": [
        {
          "output_type": "stream",
          "name": "stdout",
          "text": [
            "Encrypted: b'\\x01\\x0f\\x00\\x0e'\n"
          ]
        }
      ],
      "source": [
        "S_BOX = [0x9, 0x4, 0xA, 0xB, 0xD, 0x1, 0x8, 0x5, 0x6, 0x2, 0x0, 0x3, 0xC, 0xE, 0xF, 0x7]\n",
        "\n",
        "def sub_bytes(state):\n",
        "    return [S_BOX[b] for b in state]\n",
        "\n",
        "def shift_rows(state):\n",
        "    return [state[0], state[3], state[2], state[1]]\n",
        "\n",
        "def mix_columns(state):\n",
        "    return [(state[0] ^ state[1]), (state[2] ^ state[3]), (state[0] ^ state[2]), (state[1] ^ state[3])]\n",
        "\n",
        "def add_round_key(state, key):\n",
        "    return [s ^ k for s, k in zip(state, key)]\n",
        "\n",
        "def aes_encrypt(plaintext, key):\n",
        "    state = list(plaintext)\n",
        "    state = add_round_key(state, key)\n",
        "    state = sub_bytes(state)\n",
        "    state = shift_rows(state)\n",
        "    state = mix_columns(state)\n",
        "    return bytes(state)\n",
        "\n",
        "plaintext = bytes([0x1, 0x2, 0x3, 0x4])\n",
        "key = bytes([0x0, 0x1, 0x2, 0x3])\n",
        "enc = aes_encrypt(plaintext, key)\n",
        "print(\"Encrypted:\", enc)\n"
      ]
    }
  ]
}
