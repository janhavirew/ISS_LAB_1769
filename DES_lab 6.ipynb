{
  "nbformat": 4,
  "nbformat_minor": 0,
  "metadata": {
    "colab": {
      "provenance": []
    },
    "kernelspec": {
      "name": "python3",
      "display_name": "Python 3"
    },
    "language_info": {
      "name": "python"
    }
  },
  "cells": [
    {
      "cell_type": "code",
      "execution_count": 2,
      "metadata": {
        "colab": {
          "base_uri": "https://localhost:8080/"
        },
        "id": "V3UdrBDYBPdT",
        "outputId": "3db013a5-5a4e-4cd8-e98d-fc48cf7b0313"
      },
      "outputs": [
        {
          "output_type": "stream",
          "name": "stdout",
          "text": [
            "Plaintext:   10101010\n",
            "Encrypted:   10101100\n",
            "Decrypted:   10101010\n"
          ]
        }
      ],
      "source": [
        "def xor(a, b):\n",
        "    \"\"\"Perform XOR operation on two binary strings.\"\"\"\n",
        "    return ''.join(str(int(x) ^ int(y)) for x, y in zip(a, b))\n",
        "\n",
        "def f_function(right, key):\n",
        "    \"\"\"Simple Feistel function: XOR right half with key.\"\"\"\n",
        "    return xor(right, key)\n",
        "\n",
        "def des_encrypt(plaintext, key, rounds=4):\n",
        "    \"\"\"Encrypt using a simplified Feistel network (4 rounds).\"\"\"\n",
        "    left, right = plaintext[:4], plaintext[4:]\n",
        "\n",
        "    for _ in range(rounds):\n",
        "        new_left = right\n",
        "        new_right = xor(left, f_function(right, key))\n",
        "        left, right = new_left, new_right\n",
        "\n",
        "    return left + right\n",
        "\n",
        "def des_decrypt(ciphertext, key, rounds=4):\n",
        "    \"\"\"Decrypt using the same Feistel structure (reversed rounds).\"\"\"\n",
        "    left, right = ciphertext[:4], ciphertext[4:]\n",
        "\n",
        "    for _ in range(rounds):\n",
        "        new_right = left\n",
        "        new_left = xor(right, f_function(left, key))\n",
        "        left, right = new_left, new_right\n",
        "\n",
        "    return left + right\n",
        "\n",
        "# Example Usage\n",
        "plaintext = \"10101010\"  # 8-bit binary input\n",
        "key = \"11001100\"        # 8-bit binary key\n",
        "\n",
        "encrypted_text = des_encrypt(plaintext, key)\n",
        "decrypted_text = des_decrypt(encrypted_text, key)\n",
        "\n",
        "print(\"Plaintext:  \", plaintext)\n",
        "print(\"Encrypted:  \", encrypted_text)\n",
        "print(\"Decrypted:  \", decrypted_text)\n"
      ]
    }
  ]
}
