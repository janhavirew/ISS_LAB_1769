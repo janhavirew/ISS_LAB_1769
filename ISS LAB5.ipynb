{
  "nbformat": 4,
  "nbformat_minor": 0,
  "metadata": {
    "colab": {
      "provenance": []
    },
    "kernelspec": {
      "name": "python3",
      "display_name": "Python 3"
    },
    "language_info": {
      "name": "python"
    }
  },
  "cells": [
    {
      "cell_type": "code",
      "source": [
        "def rail_fence_encrypt(text, rails):\n",
        "    if rails <= 1:\n",
        "        return text  # No encryption if only one rail\n",
        "\n",
        "    fence = ['' for _ in range(rails)]\n",
        "    rail, direction = 0, 1\n",
        "\n",
        "    for char in text:\n",
        "        fence[rail] += char\n",
        "        rail += direction\n",
        "        if rail == 0 or rail == rails - 1:\n",
        "            direction *= -1  # Change direction at top and bottom rails\n",
        "\n",
        "    return ''.join(fence)\n",
        "\n",
        "def rail_fence_decrypt(cipher_text, rails):\n",
        "    if rails <= 1:\n",
        "        return cipher_text  # No decryption needed\n",
        "\n",
        "    rail_map = [[] for _ in range(rails)]\n",
        "    rail, direction = 0, 1\n",
        "\n",
        "    for _ in cipher_text:\n",
        "        rail_map[rail].append('*')\n",
        "        rail += direction\n",
        "        if rail == 0 or rail == rails - 1:\n",
        "            direction *= -1\n",
        "\n",
        "    index = 0\n",
        "    for r in range(rails):\n",
        "        for c in range(len(rail_map[r])):\n",
        "            rail_map[r][c] = cipher_text[index]\n",
        "            index += 1\n",
        "\n",
        "    rail, direction = 0, 1\n",
        "    decrypted_text = []\n",
        "    for _ in cipher_text:\n",
        "        decrypted_text.append(rail_map[rail].pop(0))\n",
        "        rail += direction\n",
        "        if rail == 0 or rail == rails - 1:\n",
        "            direction *= -1\n",
        "\n",
        "    return ''.join(decrypted_text)\n",
        "\n",
        "if __name__ == \"__main__\":\n",
        "    plaintext = input(\"Enter text to encrypt: \")\n",
        "    rails = int(input(\"Enter number of rails: \"))\n",
        "\n",
        "    cipher_text = rail_fence_encrypt(plaintext, rails)\n",
        "    decrypted_text = rail_fence_decrypt(cipher_text, rails)\n",
        "\n",
        "    print(\"\\nEncrypted text:\", cipher_text)\n",
        "    print(\"Decrypted text:\", decrypted_text)\n"
      ],
      "metadata": {
        "colab": {
          "base_uri": "https://localhost:8080/"
        },
        "id": "WbVEOmKlJVRw",
        "outputId": "b7a136ed-14cc-4810-a59f-449ce8dcf1c5"
      },
      "execution_count": 2,
      "outputs": [
        {
          "output_type": "stream",
          "name": "stdout",
          "text": [
            "Enter text to encrypt: CIPHER\n",
            "Enter number of rails: 4\n",
            "\n",
            "Encrypted text: CIRPEH\n",
            "Decrypted text: CIPHER\n"
          ]
        }
      ]
    }
  ]
}