{
  "nbformat": 4,
  "nbformat_minor": 0,
  "metadata": {
    "colab": {
      "provenance": []
    },
    "kernelspec": {
      "name": "python3",
      "display_name": "Python 3"
    },
    "language_info": {
      "name": "python"
    }
  },
  "cells": [
    {
      "cell_type": "code",
      "execution_count": 4,
      "metadata": {
        "colab": {
          "base_uri": "https://localhost:8080/"
        },
        "id": "V3UdrBDYBPdT",
        "outputId": "04f3b761-e229-40bd-8bfa-79598cc44b8b"
      },
      "outputs": [
        {
          "output_type": "stream",
          "name": "stdout",
          "text": [
            "Encrypted: [1087, 155, 83, 83, 913]\n",
            "Decrypted: HELLO\n"
          ]
        }
      ],
      "source": [
        "import random\n",
        "\n",
        "def gcd(a, b):\n",
        "    while b:\n",
        "        a, b = b, a % b\n",
        "    return a\n",
        "\n",
        "def mod_inverse(e, phi):\n",
        "    for d in range(1, phi):\n",
        "        if (e * d) % phi == 1:\n",
        "            return d\n",
        "    return None\n",
        "\n",
        "def generate_keys():\n",
        "    p, q = 61, 53  # Small prime numbers\n",
        "    n = p * q\n",
        "    phi = (p - 1) * (q - 1)\n",
        "    e = 3\n",
        "    while gcd(e, phi) != 1:\n",
        "        e += 2\n",
        "    d = mod_inverse(e, phi)\n",
        "    return (e, n), (d, n)\n",
        "\n",
        "def rsa_encrypt(plain, public_key):\n",
        "    e, n = public_key\n",
        "    return [(ord(char) ** e) % n for char in plain]\n",
        "\n",
        "def rsa_decrypt(cipher, private_key):\n",
        "    d, n = private_key\n",
        "    return ''.join(chr((char ** d) % n) for char in cipher)\n",
        "\n",
        "public_key, private_key = generate_keys()\n",
        "message = \"HELLO\"\n",
        "enc = rsa_encrypt(message, public_key)\n",
        "dec = rsa_decrypt(enc, private_key)\n",
        "\n",
        "print(\"Encrypted:\", enc)\n",
        "print(\"Decrypted:\", dec)\n"
      ]
    }
  ]
}
