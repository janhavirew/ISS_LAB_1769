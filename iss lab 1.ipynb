{
  "nbformat": 4,
  "nbformat_minor": 0,
  "metadata": {
    "colab": {
      "provenance": []
    },
    "kernelspec": {
      "name": "python3",
      "display_name": "Python 3"
    },
    "language_info": {
      "name": "python"
    }
  },
  "cells": [
    {
      "cell_type": "code",
      "execution_count": 1,
      "metadata": {
        "id": "RN3fEYzNs7KW",
        "colab": {
          "base_uri": "https://localhost:8080/"
        },
        "outputId": "c1f5f26b-2b73-47e1-e92a-7330e5a24337"
      },
      "outputs": [
        {
          "output_type": "stream",
          "name": "stdout",
          "text": [
            "Enter text to encrypt: ABCD\n",
            "Enter shift value: 3\n",
            "Encrypted text: DEFG\n",
            "Decrypted text: ABCD\n"
          ]
        }
      ],
      "source": [
        "\n",
        "def caesar_encrypt(text, shift):\n",
        "    encrypted = \"\"\n",
        "    for ch in text:\n",
        "        if ch.isalpha():\n",
        "            base = 'a' if ch.islower() else 'A'\n",
        "            encrypted += chr((ord(ch) - ord(base) + shift) % 26 + ord(base))\n",
        "        else:\n",
        "            encrypted += ch\n",
        "    return encrypted\n",
        "\n",
        "def caesar_decrypt(text, shift):\n",
        "    decrypted = \"\"\n",
        "    for ch in text:\n",
        "        if ch.isalpha():\n",
        "            base = 'a' if ch.islower() else 'A'\n",
        "            decrypted += chr((ord(ch) - ord(base) - shift + 26) % 26 + ord(base))\n",
        "        else:\n",
        "            decrypted += ch\n",
        "    return decrypted\n",
        "\n",
        "text = input(\"Enter text to encrypt: \")\n",
        "shift = int(input(\"Enter shift value: \"))\n",
        "encrypted_text = caesar_encrypt(text, shift)\n",
        "print(\"Encrypted text:\", encrypted_text)\n",
        "decrypted_text = caesar_decrypt(encrypted_text, shift)\n",
        "print(\"Decrypted text:\", decrypted_text)"
      ]
    }
  ]
}