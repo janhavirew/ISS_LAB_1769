{
 "cells": [
  {
   "cell_type": "code",
   "execution_count": 1,
   "id": "27257e3f-cd20-4c7f-bdd6-c7efe3c1288a",
   "metadata": {},
   "outputs": [
    {
     "name": "stdin",
     "output_type": "stream",
     "text": [
      "Enter the size of the key matrix (e.g., 2 for 2x2, 3 for 3x3):  2\n"
     ]
    },
    {
     "name": "stdout",
     "output_type": "stream",
     "text": [
      "Enter the 2x2 key matrix (column by column) as characters:\n"
     ]
    },
    {
     "name": "stdin",
     "output_type": "stream",
     "text": [
      " A B \n",
      " B C\n",
      "Enter the plaintext:  ATTACK\n"
     ]
    },
    {
     "name": "stdout",
     "output_type": "stream",
     "text": [
      "Encrypted: TMATKW\n",
      "Decrypted: ATTACK\n"
     ]
    }
   ],
   "source": [
    "import numpy as np\n",
    "\n",
    "def mod_inverse(matrix, modulus):\n",
    "    det = int(np.round(np.linalg.det(matrix)))\n",
    "    det_mod_inverse = pow(det, -1, modulus)\n",
    "    adjugate_matrix = np.round(det * np.linalg.inv(matrix)).astype(int) % modulus\n",
    "    return (det_mod_inverse * adjugate_matrix) % modulus\n",
    "\n",
    "def encrypt_column_major(plaintext, key):\n",
    "    n = len(key)\n",
    "    plaintext = plaintext.upper().replace(\" \", \"\")\n",
    "    while len(plaintext) % n != 0:\n",
    "        plaintext += \"X\"\n",
    "\n",
    "    plaintext_numbers = [ord(char) - ord('A') for char in plaintext]\n",
    "\n",
    "    # Fill plaintext matrix column by column\n",
    "    plaintext_matrix = np.zeros((n, len(plaintext) // n), dtype=int)\n",
    "    for col in range(len(plaintext) // n):\n",
    "        for row in range(n):\n",
    "            plaintext_matrix[row, col] = plaintext_numbers[col * n + row]\n",
    "\n",
    "    ciphertext_matrix = (np.dot(key, plaintext_matrix) % 26).astype(int)\n",
    "\n",
    "    # Flatten column by column\n",
    "    ciphertext = ''.join(chr(ciphertext_matrix[row, col] + ord('A'))\n",
    "                         for col in range(ciphertext_matrix.shape[1])\n",
    "                         for row in range(n))\n",
    "    return ciphertext\n",
    "\n",
    "def decrypt_column_major(ciphertext, key):\n",
    "    n = len(key)\n",
    "    ciphertext = ciphertext.upper().replace(\" \", \"\")\n",
    "    ciphertext_numbers = [ord(char) - ord('A') for char in ciphertext]\n",
    "\n",
    "    # Fill ciphertext matrix column by column\n",
    "    ciphertext_matrix = np.zeros((n, len(ciphertext) // n), dtype=int)\n",
    "    for col in range(len(ciphertext) // n):\n",
    "        for row in range(n):\n",
    "            ciphertext_matrix[row, col] = ciphertext_numbers[col * n + row]\n",
    "\n",
    "    key_inverse = mod_inverse(key, 26)\n",
    "    plaintext_matrix = (np.dot(key_inverse, ciphertext_matrix) % 26).astype(int)\n",
    "\n",
    "    # Flatten column by column\n",
    "    plaintext = ''.join(chr(plaintext_matrix[row, col] + ord('A'))\n",
    "                        for col in range(plaintext_matrix.shape[1])\n",
    "                        for row in range(n))\n",
    "    return plaintext\n",
    "\n",
    "if __name__ == \"__main__\":\n",
    "    key_size = int(input(\"Enter the size of the key matrix (e.g., 2 for 2x2, 3 for 3x3): \"))\n",
    "    print(f\"Enter the {key_size}x{key_size} key matrix (column by column) as characters:\")\n",
    "    key = []\n",
    "    for _ in range(key_size):\n",
    "        column = input().upper().replace(\" \", \"\")\n",
    "        key.append([ord(char) - ord('A') for char in column])\n",
    "    key = np.array(key).T  # Transpose to follow column-major order\n",
    "\n",
    "    plaintext = input(\"Enter the plaintext: \")\n",
    "    ciphertext = encrypt_column_major(plaintext, key)\n",
    "    print(\"Encrypted:\", ciphertext)\n",
    "\n",
    "    decrypted_text = decrypt_column_major(ciphertext, key)\n",
    "    print(\"Decrypted:\", decrypted_text)\n",
    "\n"
   ]
  },
  {
   "cell_type": "code",
   "execution_count": null,
   "id": "d464b12c-19ff-40ec-935b-89a0b64b6ad8",
   "metadata": {},
   "outputs": [],
   "source": []
  }
 ],
 "metadata": {
  "kernelspec": {
   "display_name": "Python 3 (ipykernel)",
   "language": "python",
   "name": "python3"
  },
  "language_info": {
   "codemirror_mode": {
    "name": "ipython",
    "version": 3
   },
   "file_extension": ".py",
   "mimetype": "text/x-python",
   "name": "python",
   "nbconvert_exporter": "python",
   "pygments_lexer": "ipython3",
   "version": "3.12.7"
  }
 },
 "nbformat": 4,
 "nbformat_minor": 5
}
