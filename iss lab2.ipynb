{
 "cells": [
  {
   "cell_type": "code",
   "execution_count": 1,
   "id": "6f5664b5-46de-4fc3-9f09-940012eaf3c2",
   "metadata": {},
   "outputs": [
    {
     "name": "stdin",
     "output_type": "stream",
     "text": [
      "Enter key:  janhavi \n",
      "Enter plaintext:  rewatkar janhavi\n"
     ]
    },
    {
     "name": "stdout",
     "output_type": "stream",
     "text": [
      "\n",
      "Plaintext: rewatkar janhavi\n",
      "Encrypted: SDACQONQANHVNINU\n",
      "Decrypted: REWATKARIANHAVIX\n"
     ]
    }
   ],
   "source": [
    "def generate_key_matrix(key):\n",
    "    key = \"\".join(dict.fromkeys(key.upper().replace(\"J\", \"I\").replace(\" \", \"\")))\n",
    "    alphabet = \"ABCDEFGHIKLMNOPQRSTUVWXYZ\"\n",
    "    key_matrix = []\n",
    "\n",
    "    for char in key:\n",
    "        if char not in key_matrix:\n",
    "            key_matrix.append(char)\n",
    "\n",
    "    for char in alphabet:\n",
    "        if char not in key_matrix:\n",
    "            key_matrix.append(char)\n",
    "\n",
    "    return [key_matrix[i:i+5] for i in range(0, 25, 5)]\n",
    "\n",
    "\n",
    "def find_position(matrix, char):\n",
    "    char = char.replace(\"J\", \"I\")\n",
    "    for row in range(5):\n",
    "        for col in range(5):\n",
    "            if matrix[row][col] == char:\n",
    "                return row, col\n",
    "\n",
    "\n",
    "def playfair_encrypt(plaintext, key):\n",
    "    key_matrix = generate_key_matrix(key)\n",
    "    plaintext = plaintext.upper().replace(\"J\", \"I\").replace(\" \", \"\")\n",
    "    if len(plaintext) % 2 != 0:\n",
    "        plaintext += \"X\"\n",
    "\n",
    "    encrypted_text = \"\"\n",
    "    i = 0\n",
    "    while i < len(plaintext):\n",
    "        a, b = plaintext[i], plaintext[i + 1] if i + 1 < len(plaintext) else \"X\"\n",
    "        if a == b:\n",
    "            b = \"X\"\n",
    "\n",
    "        r1, c1 = find_position(key_matrix, a)\n",
    "        r2, c2 = find_position(key_matrix, b)\n",
    "\n",
    "        if r1 == r2:\n",
    "            encrypted_text += key_matrix[r1][(c1 + 1) % 5] + key_matrix[r2][(c2 + 1) % 5]\n",
    "        elif c1 == c2:\n",
    "            encrypted_text += key_matrix[(r1 + 1) % 5][c1] + key_matrix[(r2 + 1) % 5][c2]\n",
    "        else:\n",
    "            encrypted_text += key_matrix[r1][c2] + key_matrix[r2][c1]\n",
    "\n",
    "        i += 2\n",
    "\n",
    "    return encrypted_text\n",
    "\n",
    "\n",
    "def playfair_decrypt(ciphertext, key):\n",
    "    key_matrix = generate_key_matrix(key)\n",
    "    ciphertext = ciphertext.upper().replace(\" \", \"\")\n",
    "\n",
    "    decrypted_text = \"\"\n",
    "    i = 0\n",
    "    while i < len(ciphertext):\n",
    "        a, b = ciphertext[i], ciphertext[i + 1]\n",
    "\n",
    "        r1, c1 = find_position(key_matrix, a)\n",
    "        r2, c2 = find_position(key_matrix, b)\n",
    "\n",
    "        if r1 == r2:\n",
    "            decrypted_text += key_matrix[r1][(c1 - 1) % 5] + key_matrix[r2][(c2 - 1) % 5]\n",
    "        elif c1 == c2:\n",
    "            decrypted_text += key_matrix[(r1 - 1) % 5][c1] + key_matrix[(r2 - 1) % 5][c2]\n",
    "        else:\n",
    "            decrypted_text += key_matrix[r1][c2] + key_matrix[r2][c1]\n",
    "\n",
    "        i += 2\n",
    "\n",
    "    return decrypted_text\n",
    "\n",
    "key=input(\"Enter key: \")\n",
    "plaintext = input(\"Enter plaintext: \")\n",
    "ciphertext = playfair_encrypt(plaintext, key)\n",
    "decrypted_text = playfair_decrypt(ciphertext, key)\n",
    "\n",
    "print(\"\\nPlaintext:\", plaintext)\n",
    "print(\"Encrypted:\", ciphertext)\n",
    "print(\"Decrypted:\", decrypted_text)"
   ]
  },
  {
   "cell_type": "code",
   "execution_count": null,
   "id": "4c2b70f0-c3ca-4b98-8622-61ac0b454f36",
   "metadata": {},
   "outputs": [],
   "source": []
  },
  {
   "cell_type": "code",
   "execution_count": null,
   "id": "1a5dfa35-9e81-4346-9577-6e7c35c3a2ba",
   "metadata": {},
   "outputs": [],
   "source": []
  }
 ],
 "metadata": {
  "kernelspec": {
   "display_name": "Python 3 (ipykernel)",
   "language": "python",
   "name": "python3"
  },
  "language_info": {
   "codemirror_mode": {
    "name": "ipython",
    "version": 3
   },
   "file_extension": ".py",
   "mimetype": "text/x-python",
   "name": "python",
   "nbconvert_exporter": "python",
   "pygments_lexer": "ipython3",
   "version": "3.12.7"
  }
 },
 "nbformat": 4,
 "nbformat_minor": 5
}
