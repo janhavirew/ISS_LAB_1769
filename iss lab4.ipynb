{
  "nbformat": 4,
  "nbformat_minor": 0,
  "metadata": {
    "colab": {
      "provenance": []
    },
    "kernelspec": {
      "name": "python3",
      "display_name": "Python 3"
    },
    "language_info": {
      "name": "python"
    }
  },
  "cells": [
    {
      "cell_type": "code",
      "source": [
        "def vigenere_encrypt(text, key):\n",
        "    encrypted_text = \"\"\n",
        "    key = key.upper()\n",
        "    key_length = len(key)\n",
        "\n",
        "    for i, char in enumerate(text):\n",
        "        if char.isalpha():\n",
        "            shift = ord(key[i % key_length]) - ord('A')\n",
        "            if char.isupper():\n",
        "                encrypted_text += chr((ord(char) - ord('A') + shift) % 26 + ord('A'))\n",
        "            else:\n",
        "                encrypted_text += chr((ord(char) - ord('a') + shift) % 26 + ord('a'))\n",
        "        else:\n",
        "            encrypted_text += char\n",
        "\n",
        "    return encrypted_text\n",
        "\n",
        "def vigenere_decrypt(cipher_text, key):\n",
        "    decrypted_text = \"\"\n",
        "    key = key.upper()\n",
        "    key_length = len(key)\n",
        "\n",
        "    for i, char in enumerate(cipher_text):\n",
        "        if char.isalpha():\n",
        "            shift = ord(key[i % key_length]) - ord('A')\n",
        "            if char.isupper():\n",
        "                decrypted_text += chr((ord(char) - ord('A') - shift) % 26 + ord('A'))\n",
        "            else:\n",
        "                decrypted_text += chr((ord(char) - ord('a') - shift) % 26 + ord('a'))\n",
        "        else:\n",
        "            decrypted_text += char\n",
        "\n",
        "    return decrypted_text\n",
        "\n",
        "if __name__ == \"__main__\":\n",
        "    text = input(\"Enter the text: \")\n",
        "    key = input(\"Enter the key: \")\n",
        "\n",
        "    encrypted_text = vigenere_encrypt(text, key)\n",
        "    print(\"Encrypted Text:\", encrypted_text)\n",
        "\n",
        "    decrypted_text = vigenere_decrypt(encrypted_text, key)\n",
        "    print(\"Decrypted Text:\", decrypted_text)\n"
      ],
      "metadata": {
        "colab": {
          "base_uri": "https://localhost:8080/"
        },
        "id": "5CHA0NgTFthJ",
        "outputId": "2230bf49-fa56-49f0-cb22-f0df7e168122"
      },
      "execution_count": 4,
      "outputs": [
        {
          "output_type": "stream",
          "name": "stdout",
          "text": [
            "Enter the text: JAIPUR CITY\n",
            "Enter the key: KEY\n",
            "Encrypted Text: TEGZYP GGDC\n",
            "Decrypted Text: JAIPUR CITY\n"
          ]
        }
      ]
    }
  ]
}